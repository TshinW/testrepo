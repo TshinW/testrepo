{
 "cells": [
  {
   "cell_type": "markdown",
   "id": "a74ded57-2c58-4ad4-a11d-2d74128a74c9",
   "metadata": {},
   "source": [
    "# Data Science Tools and Ecosystem"
   ]
  },
  {
   "cell_type": "markdown",
   "id": "25c35939-8819-4fa0-91f6-f45ccf9ef874",
   "metadata": {},
   "source": [
    "In this notebook, Data Science Tools and Ecosystem are summarized."
   ]
  },
  {
   "cell_type": "markdown",
   "id": "117fb000-f590-4fd4-8d12-b5b29387c378",
   "metadata": {},
   "source": [
    "**Objectives:**\n",
    "* Python\n",
    "* R\n",
    "* SQL\n",
    "* Java\n",
    "* Julia"
   ]
  },
  {
   "cell_type": "markdown",
   "id": "29eaeb0d-3b28-4895-a587-dabcaf9911f3",
   "metadata": {},
   "source": [
    "Some of the popular languages that Data Scientists use are:\n",
    "1. Python\n",
    "2. R\n",
    "3. SQL"
   ]
  },
  {
   "cell_type": "markdown",
   "id": "8795afa5-2b1b-429b-9cfa-dca7df60cc7f",
   "metadata": {},
   "source": [
    "Some of the commonly used libraries used by Data Scientists include:\n",
    "1. Numpy\n",
    "2. Pandas\n",
    "3. Scikit-learn"
   ]
  },
  {
   "cell_type": "markdown",
   "id": "e9be48ad-328d-44b5-a973-4d9ea1e0996f",
   "metadata": {},
   "source": [
    "|Data Science Tools|\n",
    "|------------------|\n",
    "|Jupyter|\n",
    "|RStudio|\n",
    "|Microsoft Visual Studio|"
   ]
  },
  {
   "cell_type": "markdown",
   "id": "1217e117-9925-48e8-9468-83a685343c3e",
   "metadata": {},
   "source": [
    "### Below are a few examples of evaluating arithmetic expressions in Python\n",
    "4+7\n",
    "5-2\n",
    "2*3\n",
    "12/4"
   ]
  },
  {
   "cell_type": "code",
   "execution_count": 3,
   "id": "59b76e9c-3a8b-491d-97dd-2583f3f1f689",
   "metadata": {},
   "outputs": [
    {
     "data": {
      "text/plain": [
       "17"
      ]
     },
     "execution_count": 3,
     "metadata": {},
     "output_type": "execute_result"
    }
   ],
   "source": [
    "#This a simple arithmetic expression to mutiply then add integers\n",
    "(3*4)+5"
   ]
  },
  {
   "cell_type": "code",
   "execution_count": 4,
   "id": "dd53e870-7bf3-4fb7-b1fb-b4bc2575f817",
   "metadata": {},
   "outputs": [
    {
     "data": {
      "text/plain": [
       "3.3333333333333335"
      ]
     },
     "execution_count": 4,
     "metadata": {},
     "output_type": "execute_result"
    }
   ],
   "source": [
    "#This will convert 200 minutes to hours by diving by 60\n",
    "200/60"
   ]
  },
  {
   "cell_type": "markdown",
   "id": "28be315d-1f29-4086-9c1e-99eaea71602f",
   "metadata": {},
   "source": [
    "## Author\n",
    "Shin"
   ]
  },
  {
   "cell_type": "code",
   "execution_count": null,
   "id": "51b14525-913f-4821-8c81-1830176b5406",
   "metadata": {},
   "outputs": [],
   "source": []
  }
 ],
 "metadata": {
  "kernelspec": {
   "display_name": "Python 3 (ipykernel)",
   "language": "python",
   "name": "python3"
  },
  "language_info": {
   "codemirror_mode": {
    "name": "ipython",
    "version": 3
   },
   "file_extension": ".py",
   "mimetype": "text/x-python",
   "name": "python",
   "nbconvert_exporter": "python",
   "pygments_lexer": "ipython3",
   "version": "3.12.7"
  }
 },
 "nbformat": 4,
 "nbformat_minor": 5
}
